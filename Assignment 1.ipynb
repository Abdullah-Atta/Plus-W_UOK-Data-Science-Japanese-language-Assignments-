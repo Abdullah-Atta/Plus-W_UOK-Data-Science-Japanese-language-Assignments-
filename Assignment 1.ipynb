Question # 1

To work out the love score between two people:

Take both people's names and check for the number of times
the letters in the word TRUE occurs. 2. Then check for the number of times the letters in the word LOVE occurs. 3. Then combine these numbers to make a 2 digit number. For Love Scores less than 10 or greater than 90, the message should be: "Your score is x, you go together like coke and mentos." For Love Scores between 40 and 50, the message should be: "Your score is y, you are alright together." Otherwise, the message will just be their score. e.g.: "Your score is z."
person1 = input("Enter First Person Name: ")
person2 = input("Enter Second Person Name: ")
person = (person1+person2).strip().lower()
true_sum =0
love_sum =0
for word in person:
    if(word in "true"):
        true_sum +=1
    if(word in "love"):
        love_sum +=1
    
score = int(str(true_sum) + str(love_sum))

if(score <10 and score>90):
    print(f"Your score is {score}, you go together like coke and mentos.")

elif(score>=40 and score<=50):
    print(f"Your score is {score}, you are alright together.")

else:
    print(f"Your score is {score}.")
        
